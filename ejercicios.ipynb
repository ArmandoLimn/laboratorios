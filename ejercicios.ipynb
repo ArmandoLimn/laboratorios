{
 "cells": [
  {
   "cell_type": "markdown",
   "metadata": {},
   "source": [
    "# Métodos para aproximar eigenvalores y eigenvectores de una matriz simétrica"
   ]
  },
  {
   "cell_type": "markdown",
   "metadata": {},
   "source": [
    "1) Considera: \n",
    "\n",
    "$$A = \n",
    "\\left [\n",
    "\\begin{array}{cccc}\n",
    "1 & 2 & 3 & 4\\\\\n",
    "2 & -2 & 4 & 5\\\\\n",
    "3 & 4 & 6 & 7\\\\\n",
    "4 & 5 & 7 & -8\n",
    "\\end{array}\n",
    "\\right ].\n",
    "$$\n",
    "\n",
    "Utilizando la metodología de ordenamiento cíclico por renglones realizar cuatro *sweeps* del método de rotaciones de Jacobi para matrices simétricas."
   ]
  },
  {
   "cell_type": "markdown",
   "metadata": {},
   "source": [
    "Referencia: [Ejemplo](https://itam-ds.github.io/analisis-numerico-computo-cientifico/II.computo_matricial/2.3/Algoritmos_y_aplicaciones_de_eigenvalores_eigenvectores_de_una_matriz.html#id1)"
   ]
  },
  {
   "cell_type": "markdown",
   "metadata": {},
   "source": [
    "2) Realiza tres iteraciones del algoritmo QR para aproximar los eigenvalores de la matriz:\n",
    "\n",
    "$$\n",
    "A = \n",
    "\\left [\n",
    "\\begin{array}{cccc}\n",
    "8 & 4 & 2 & 1 \\\\\n",
    "4 & 8 & 2 & 1 \\\\\n",
    "2 & 2 & 8 & 1 \\\\\n",
    "1 & 1 & 1 & 8\n",
    "\\end{array}\n",
    "\\right ]\n",
    "$$\n"
   ]
  },
  {
   "cell_type": "markdown",
   "metadata": {},
   "source": [
    "Referencia: [Ejemplo](https://itam-ds.github.io/analisis-numerico-computo-cientifico/II.computo_matricial/2.3/Algoritmos_y_aplicaciones_de_eigenvalores_eigenvectores_de_una_matriz.html#id2)"
   ]
  },
  {
   "cell_type": "markdown",
   "metadata": {},
   "source": [
    "3) Realiza tres iteraciones del método de la potencia para calcular $\\lambda_{\\text{max}}(A)$ de la matriz:\n",
    "\n",
    "$$\n",
    "A = \n",
    "\\left [\n",
    "\\begin{array}{ccc}\n",
    "4 & -1 & 1 \\\\\n",
    "-1 & 3 & -2 \\\\\n",
    "1 & -2 & 3\n",
    "\\end{array}\n",
    "\\right ]\n",
    "$$\n",
    "\n",
    "con vector inicial \n",
    "\n",
    "$$ q^{(0)}= \\left [\n",
    "\\begin{array}{c}\n",
    "1 \\\\\n",
    "0 \\\\\n",
    "0\n",
    "\\end{array}\n",
    "\\right ]\n",
    "$$\n",
    "\n",
    "con $\\lambda_{\\text{max}}(A)$ el eigenvalor de máximo módulo de $A$."
   ]
  },
  {
   "cell_type": "markdown",
   "metadata": {},
   "source": [
    "Referencia: [Ejemplo](https://itam-ds.github.io/analisis-numerico-computo-cientifico/II.computo_matricial/2.3/Algoritmos_y_aplicaciones_de_eigenvalores_eigenvectores_de_una_matriz.html#id4)"
   ]
  },
  {
   "cell_type": "markdown",
   "metadata": {},
   "source": [
    "# Ajuste de modelos usados en aprendizaje de máquina"
   ]
  },
  {
   "cell_type": "code",
   "execution_count": null,
   "metadata": {},
   "outputs": [],
   "source": []
  }
 ],
 "metadata": {
  "kernelspec": {
   "display_name": "Python 3",
   "language": "python",
   "name": "python3"
  },
  "language_info": {
   "codemirror_mode": {
    "name": "ipython",
    "version": 3
   },
   "file_extension": ".py",
   "mimetype": "text/x-python",
   "name": "python",
   "nbconvert_exporter": "python",
   "pygments_lexer": "ipython3",
   "version": "3.7.3"
  }
 },
 "nbformat": 4,
 "nbformat_minor": 4
}
