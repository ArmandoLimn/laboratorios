{
 "cells": [
  {
   "cell_type": "markdown",
   "metadata": {},
   "source": [
    "# Ejercicios"
   ]
  },
  {
   "cell_type": "markdown",
   "metadata": {},
   "source": [
    "**Producto por escalar a un vector**"
   ]
  },
  {
   "cell_type": "markdown",
   "metadata": {},
   "source": [
    "Si $v = \\left [ \\begin{array}{c}\n",
    "4 \\\\\n",
    "7 \\\\\n",
    "-2\n",
    "\\end{array}\n",
    "\\right ]$ realizar: $3.5v$."
   ]
  },
  {
   "cell_type": "markdown",
   "metadata": {},
   "source": [
    "**Suma de vectores**"
   ]
  },
  {
   "cell_type": "markdown",
   "metadata": {},
   "source": [
    "Si $a =  \\left [ \\begin{array}{c}\n",
    "3 \\\\\n",
    "4 \\\\\n",
    "1 \\\\\n",
    "-1\n",
    "\\end{array}\n",
    "\\right ], b =  \\left [ \\begin{array}{c}\n",
    "3 \\\\\n",
    "-5 \\\\\n",
    "0 \\\\\n",
    "1\n",
    "\\end{array}\n",
    "\\right ]$ realizar: $a+b$."
   ]
  },
  {
   "cell_type": "markdown",
   "metadata": {},
   "source": [
    "**Operaciones con matrices**"
   ]
  },
  {
   "cell_type": "markdown",
   "metadata": {},
   "source": [
    "1) Si $A =  \\left [ \\begin{array}{cc}\n",
    "a_{11} & a_{12} & a_{13} \\\\\n",
    "a_{21} & a_{22} & a_{23} \\\\\n",
    "a_{31} & a_{32} & a_{33}\n",
    "\\end{array}\n",
    "\\right ]$, $x = \\left [ \\begin{array}{c}\n",
    "x_1 \\\\\n",
    "x_2 \\\\\n",
    "x_3\n",
    "\\end{array}\n",
    "\\right ]$ realizar Ax."
   ]
  },
  {
   "cell_type": "markdown",
   "metadata": {},
   "source": [
    "2) Si $A =\\left [ \\begin{array}{cc}\n",
    "3 & 1 \\\\\n",
    "2 & 6 \\\\\n",
    "4 & 0\n",
    "\\end{array}\n",
    "\\right ]$, $x =  \\left [ \\begin{array}{c}\n",
    "-\\pi \\\\\n",
    "2\n",
    "\\end{array}\n",
    "\\right ]$ realizar $Ax$."
   ]
  },
  {
   "cell_type": "markdown",
   "metadata": {},
   "source": [
    "3) Si $A=  \\left [ \\begin{array}{cc}\n",
    "a_{11} & a_{12} \\\\\n",
    "a_{21} & a_{22} \\\\\n",
    "\\end{array}\n",
    "\\right ]$, $B =  \\left [ \\begin{array}{cc}\n",
    "b_{11} & b_{12}\\\\\n",
    "b_{21} & b_{22} \\\\\n",
    "\\end{array}\n",
    "\\right ]$ realizar: $A + B$, $AB$, $BA$, $A^T$."
   ]
  },
  {
   "cell_type": "code",
   "execution_count": null,
   "metadata": {},
   "outputs": [],
   "source": []
  }
 ],
 "metadata": {
  "kernelspec": {
   "display_name": "Python 3",
   "language": "python",
   "name": "python3"
  },
  "language_info": {
   "codemirror_mode": {
    "name": "ipython",
    "version": 3
   },
   "file_extension": ".py",
   "mimetype": "text/x-python",
   "name": "python",
   "nbconvert_exporter": "python",
   "pygments_lexer": "ipython3",
   "version": "3.7.3"
  }
 },
 "nbformat": 4,
 "nbformat_minor": 4
}
