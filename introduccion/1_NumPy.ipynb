{
 "cells": [
  {
   "cell_type": "markdown",
   "metadata": {},
   "source": [
    "La mayor cantidad de problemas que surgen en aplicaciones se resuelven con cómputo numérico vs cómputo simbólico o algebraico. El paquete de [NumPy](https://numpy.org/) ayuda a esto."
   ]
  },
  {
   "cell_type": "code",
   "execution_count": 1,
   "metadata": {},
   "outputs": [],
   "source": [
    "import numpy as np #utilizamos un alias con la palabra reservada \"as\""
   ]
  },
  {
   "cell_type": "markdown",
   "metadata": {},
   "source": [
    "Una vez hecho el `import` podemos utilizar una gran variedad de funciones en este paquete. Lo más sencillo es iniciar con formas para crear *arrays* de *NumPy*."
   ]
  },
  {
   "cell_type": "markdown",
   "metadata": {},
   "source": [
    "En lo que continúa el nombre de *array* hace referencia a uno de *NumPy*."
   ]
  },
  {
   "cell_type": "markdown",
   "metadata": {},
   "source": [
    "Referencia a lo que sigue: [quickstart](https://numpy.org/doc/stable/user/quickstart.html) y [Numerical Python by Robert Johansson, Apress](https://www.apress.com/gp/book/9781484242452)."
   ]
  },
  {
   "cell_type": "markdown",
   "metadata": {},
   "source": [
    "# Crear *arrays*"
   ]
  },
  {
   "cell_type": "markdown",
   "metadata": {},
   "source": [
    "## Con listas de Python"
   ]
  },
  {
   "cell_type": "markdown",
   "metadata": {},
   "source": [
    "Podemos usar listas en Python para crear *arrays*:"
   ]
  },
  {
   "cell_type": "code",
   "execution_count": 2,
   "metadata": {},
   "outputs": [
    {
     "data": {
      "text/plain": [
       "array([ 1,  2,  3,  4,  5,  6,  7,  8,  9, 10])"
      ]
     },
     "execution_count": 2,
     "metadata": {},
     "output_type": "execute_result"
    }
   ],
   "source": [
    "v = np.array([1,2,3,4,5,6,7,8,9,10])\n",
    "v"
   ]
  },
  {
   "cell_type": "markdown",
   "metadata": {},
   "source": [
    "**Recuerda que una lista en Python es una estructura de datos.**"
   ]
  },
  {
   "cell_type": "markdown",
   "metadata": {},
   "source": [
    "y cada array tiene **atributos** como: `ndim` (número de *axes* o ejes), `shape` (tamaño de cada eje), `size` (el tamaño total del array) y `dtype` el tipo de dato del array."
   ]
  },
  {
   "cell_type": "code",
   "execution_count": 3,
   "metadata": {},
   "outputs": [
    {
     "name": "stdout",
     "output_type": "stream",
     "text": [
      "v.ndim: 1\n",
      "v.shape: (10,)\n",
      "v.size: 10\n",
      "v.dtype int64\n"
     ]
    }
   ],
   "source": [
    "print('v.ndim:', v.ndim) #usamos un punto para acceder a los atributos\n",
    "print('v.shape:', v.shape)\n",
    "print('v.size:', v.size)\n",
    "print('v.dtype', v.dtype)"
   ]
  },
  {
   "cell_type": "markdown",
   "metadata": {},
   "source": [
    "**Los ejes o *axes* son lo que conocemos como dimensiones en álgebra lineal**."
   ]
  },
  {
   "cell_type": "markdown",
   "metadata": {},
   "source": [
    "**Obsérvese que el tipo del array es `int64`**. Si queremos crear un *array* de tipo `float` podemos especificar el atributo `dtype` al crear el *array*:"
   ]
  },
  {
   "cell_type": "code",
   "execution_count": 4,
   "metadata": {},
   "outputs": [
    {
     "data": {
      "text/plain": [
       "array([ 1.,  2.,  3.,  4.,  5.,  6.,  7.,  8.,  9., 10.])"
      ]
     },
     "execution_count": 4,
     "metadata": {},
     "output_type": "execute_result"
    }
   ],
   "source": [
    "v = np.array([1,2,3,4,5,6,7,8,9,10],dtype = float)\n",
    "v"
   ]
  },
  {
   "cell_type": "code",
   "execution_count": 5,
   "metadata": {},
   "outputs": [
    {
     "name": "stdout",
     "output_type": "stream",
     "text": [
      "v.ndim: 1\n",
      "v.shape: (10,)\n",
      "v.size: 10\n",
      "v.dtype float64\n"
     ]
    }
   ],
   "source": [
    "print('v.ndim:', v.ndim) #usamos un punto para acceder a los atributos\n",
    "print('v.shape:', v.shape)\n",
    "print('v.size:', v.size)\n",
    "print('v.dtype', v.dtype)"
   ]
  },
  {
   "cell_type": "markdown",
   "metadata": {},
   "source": [
    "Usamos la función `type` para ver el tipo de objeto:"
   ]
  },
  {
   "cell_type": "code",
   "execution_count": 6,
   "metadata": {},
   "outputs": [
    {
     "data": {
      "text/plain": [
       "numpy.ndarray"
      ]
     },
     "execution_count": 6,
     "metadata": {},
     "output_type": "execute_result"
    }
   ],
   "source": [
    "type(v)"
   ]
  },
  {
   "cell_type": "markdown",
   "metadata": {},
   "source": [
    "y es un objeto de la clase **ndarray**."
   ]
  },
  {
   "cell_type": "markdown",
   "metadata": {},
   "source": [
    "**Obsérvese** que los elementos de cada *array* deben ser del mismo tipo, ser **homogéneos**, esto es, hay que tener cuidado al crear un *array*:"
   ]
  },
  {
   "cell_type": "code",
   "execution_count": 11,
   "metadata": {},
   "outputs": [],
   "source": [
    "v2 = np.array([2.0, \"hola\"])"
   ]
  },
  {
   "cell_type": "code",
   "execution_count": 12,
   "metadata": {},
   "outputs": [
    {
     "data": {
      "text/plain": [
       "array(['2.0', 'hola'], dtype='<U32')"
      ]
     },
     "execution_count": 12,
     "metadata": {},
     "output_type": "execute_result"
    }
   ],
   "source": [
    "v2"
   ]
  },
  {
   "cell_type": "markdown",
   "metadata": {},
   "source": [
    "pues aunque sí podemos crear un *array* con un `float` y un `string`, el tipo anterior hace referencia a *little-endian Unicode string of 32 characters*. Ver: [liga](https://stackoverflow.com/questions/56944812/how-to-interpret-python-output-dtype-u32/56944839), [liga2](https://numpy.org/doc/stable/reference/arrays.dtypes.html)."
   ]
  },
  {
   "cell_type": "code",
   "execution_count": 13,
   "metadata": {},
   "outputs": [
    {
     "data": {
      "text/plain": [
       "dtype('<U32')"
      ]
     },
     "execution_count": 13,
     "metadata": {},
     "output_type": "execute_result"
    }
   ],
   "source": [
    "v2.dtype "
   ]
  },
  {
   "cell_type": "markdown",
   "metadata": {},
   "source": [
    "## Con funciones de *NumPy*"
   ]
  },
  {
   "cell_type": "markdown",
   "metadata": {},
   "source": [
    "# *Arrays* con dos ejes o *axis* o 2-dimensionales"
   ]
  },
  {
   "cell_type": "markdown",
   "metadata": {},
   "source": [
    "# Accesar a las entradas de un *array*"
   ]
  },
  {
   "cell_type": "markdown",
   "metadata": {},
   "source": [
    "Accedemos con **corchetes** a sus componentes:"
   ]
  },
  {
   "cell_type": "code",
   "execution_count": 14,
   "metadata": {},
   "outputs": [
    {
     "name": "stdout",
     "output_type": "stream",
     "text": [
      "primer elemento 1.0\n",
      "último elemento 10.0\n",
      "segundo elemento 2.0\n",
      "penúltimo elemento 9.0\n",
      "del primero al 2º elemento incluyendo este último [1. 2.]\n",
      "del 2º al último elemento sin incluir el 2º [ 3.  4.  5.  6.  7.  8.  9. 10.]\n",
      "del 1er elemento al último elemento de 2 en 2 [1. 3. 5. 7. 9.]\n"
     ]
    }
   ],
   "source": [
    "print('primer elemento', v[0])\n",
    "print('último elemento', v[-1])\n",
    "print('segundo elemento', v[1])\n",
    "print('penúltimo elemento', v[-2])\n",
    "print('del primero al 2º elemento incluyendo este último', v[:2])\n",
    "print('del 2º al último elemento sin incluir el 2º', v[2:])\n",
    "print('del 1er elemento al último elemento de 2 en 2', v[0:10:2])"
   ]
  },
  {
   "cell_type": "code",
   "execution_count": 15,
   "metadata": {},
   "outputs": [],
   "source": [
    "idx = [0, 4, 9]"
   ]
  },
  {
   "cell_type": "code",
   "execution_count": 16,
   "metadata": {},
   "outputs": [
    {
     "name": "stdout",
     "output_type": "stream",
     "text": [
      "imprimiento algunos índices: [ 1.  5. 10.]\n"
     ]
    }
   ],
   "source": [
    "print('imprimiento algunos índices:', v[idx])"
   ]
  },
  {
   "cell_type": "markdown",
   "metadata": {},
   "source": [
    "## "
   ]
  }
 ],
 "metadata": {
  "kernelspec": {
   "display_name": "Python 3",
   "language": "python",
   "name": "python3"
  },
  "language_info": {
   "codemirror_mode": {
    "name": "ipython",
    "version": 3
   },
   "file_extension": ".py",
   "mimetype": "text/x-python",
   "name": "python",
   "nbconvert_exporter": "python",
   "pygments_lexer": "ipython3",
   "version": "3.7.3"
  }
 },
 "nbformat": 4,
 "nbformat_minor": 4
}
